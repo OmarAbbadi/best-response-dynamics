{
  "nbformat": 4,
  "nbformat_minor": 0,
  "metadata": {
    "colab": {
      "provenance": []
    },
    "kernelspec": {
      "name": "python3",
      "display_name": "Python 3"
    },
    "language_info": {
      "name": "python"
    }
  },
  "cells": [
    {
      "cell_type": "code",
      "source": [
        "pip install pyomo"
      ],
      "metadata": {
        "colab": {
          "base_uri": "https://localhost:8080/"
        },
        "id": "Acuu-e2IWiFq",
        "outputId": "c2db19a3-afdb-4831-f610-3931d0f2a320"
      },
      "execution_count": null,
      "outputs": [
        {
          "output_type": "stream",
          "name": "stdout",
          "text": [
            "Collecting pyomo\n",
            "  Downloading Pyomo-6.7.0-cp310-cp310-manylinux_2_17_x86_64.manylinux2014_x86_64.whl (12.5 MB)\n",
            "\u001b[2K     \u001b[90m━━━━━━━━━━━━━━━━━━━━━━━━━━━━━━━━━━━━━━━━\u001b[0m \u001b[32m12.5/12.5 MB\u001b[0m \u001b[31m24.0 MB/s\u001b[0m eta \u001b[36m0:00:00\u001b[0m\n",
            "\u001b[?25hCollecting ply (from pyomo)\n",
            "  Downloading ply-3.11-py2.py3-none-any.whl (49 kB)\n",
            "\u001b[2K     \u001b[90m━━━━━━━━━━━━━━━━━━━━━━━━━━━━━━━━━━━━━━━━\u001b[0m \u001b[32m49.6/49.6 kB\u001b[0m \u001b[31m4.6 MB/s\u001b[0m eta \u001b[36m0:00:00\u001b[0m\n",
            "\u001b[?25hInstalling collected packages: ply, pyomo\n",
            "Successfully installed ply-3.11 pyomo-6.7.0\n"
          ]
        }
      ]
    },
    {
      "cell_type": "code",
      "source": [
        "import pandas as pd\n",
        "from random import randint\n",
        "import numpy as np\n",
        "import matplotlib.pyplot as plt"
      ],
      "metadata": {
        "id": "Vh4URCnSwmSu"
      },
      "execution_count": null,
      "outputs": []
    },
    {
      "cell_type": "markdown",
      "source": [
        "# $f^{CO2}$"
      ],
      "metadata": {
        "id": "T9jccr3-vhfS"
      }
    },
    {
      "cell_type": "markdown",
      "source": [
        "In this section we define the $f^{CO2}$ function and we define a list of the capacity and CO2 emission for each production asset."
      ],
      "metadata": {
        "id": "ZvVhVn9-wxrP"
      }
    },
    {
      "cell_type": "code",
      "execution_count": null,
      "metadata": {
        "id": "0joPwmzSx5rV"
      },
      "outputs": [],
      "source": [
        "def f_CO2(I, P, CO2, l):\n",
        "    f = 0\n",
        "    sum_P = 0\n",
        "    for i in range(I - 1):\n",
        "        # Update the running sum of capacities\n",
        "        sum_P += P[i]\n",
        "        # Calculate the term for this asset and add it to the result\n",
        "        f += (CO2[i + 1] - CO2[i]) * max(0, l - sum_P)\n",
        "    return f"
      ]
    },
    {
      "cell_type": "code",
      "source": [
        "CO2 = [0, 0, 0, 484, 0, 429, 986, 777]\n",
        "P = [25504, 13612, 19099, 2234, 61370, 12752, 1818, 2890]"
      ],
      "metadata": {
        "id": "z38mAQIjv9GZ"
      },
      "execution_count": null,
      "outputs": []
    },
    {
      "cell_type": "markdown",
      "source": [
        "# Data"
      ],
      "metadata": {
        "id": "ygdl_OAExOeH"
      }
    },
    {
      "cell_type": "markdown",
      "source": [
        "In this section we put the data into format needed to apply the BRD algorithm. For the EV we use all of the data (arrival time, departure time, energy), for the non-flexible part of the load, we use \"forecast-day-1\" part of the data."
      ],
      "metadata": {
        "id": "P4IGQZvgxSYh"
      }
    },
    {
      "cell_type": "code",
      "source": [
        "file_path = '/content/ev_scenarios.csv'\n",
        "dfEV = pd.read_csv(file_path, sep=';', decimal='.')\n",
        "print(dfEV.head())"
      ],
      "metadata": {
        "colab": {
          "base_uri": "https://localhost:8080/"
        },
        "id": "O_zJf8cwFpKD",
        "outputId": "d46f7bb4-ec6b-4f70-9e19-041bcf8c57a2"
      },
      "execution_count": null,
      "outputs": [
        {
          "output_type": "stream",
          "name": "stdout",
          "text": [
            "             day  ev_id  time_slot_arr  time_slot_dep  energy_need (kWh)\n",
            "0     01/01/2019      1             36             14                5.0\n",
            "1     01/01/2019      2             39             16                5.9\n",
            "2     01/01/2019      3             37             15                5.0\n",
            "3     01/01/2019      4             39             14                9.9\n",
            "4     01/01/2019      5             35             16                5.0\n",
            "...          ...    ...            ...            ...                ...\n",
            "3645  31/12/2019      6             34             16               23.8\n",
            "3646  31/12/2019      7             35             15                8.4\n",
            "3647  31/12/2019      8             33             15               12.8\n",
            "3648  31/12/2019      9             39             12               13.0\n",
            "3649  31/12/2019     10             35             13                5.0\n",
            "\n",
            "[3650 rows x 5 columns]\n"
          ]
        }
      ]
    },
    {
      "cell_type": "code",
      "source": [
        "file_path2 = '/content/eCO2mix_RTE_Annuel-Definitif_2019_summer.csv'\n",
        "dfCO2 = pd.read_csv(file_path2, sep=';', decimal='.')\n",
        "\n",
        "dfCO2['date'] = pd.to_datetime(dfCO2['date'], format=\"%Y-%m-%d %H:%M:%S\")\n",
        "\n",
        "print(dfCO2.head())"
      ],
      "metadata": {
        "colab": {
          "base_uri": "https://localhost:8080/"
        },
        "id": "5jmOXHNoGyFt",
        "outputId": "bd217a31-d6bc-4f0d-c3d8-89ca89299c1c"
      },
      "execution_count": null,
      "outputs": [
        {
          "output_type": "stream",
          "name": "stdout",
          "text": [
            "                 date  consumption  forecast_day-1  forecast_hour-1  fuel  \\\n",
            "0 2019-06-01 00:00:00      45727.0         45500.0          45900.0  86.0   \n",
            "1 2019-06-01 00:30:00      43602.0         43100.0          43000.0  78.0   \n",
            "2 2019-06-01 01:00:00      40816.0         40500.0          40700.0  78.0   \n",
            "3 2019-06-01 01:30:00      40112.0         40900.0          40800.0  78.0   \n",
            "4 2019-06-01 02:00:00      39285.0         40000.0          40100.0  79.0   \n",
            "\n",
            "   coal     gas  nuclear   wind  solar  hydro_pumping  bioenergy  co2_rate  \n",
            "0  18.0  2088.0  39794.0  541.0    0.0          -49.0     1125.0      21.0  \n",
            "1  19.0  1979.0  39460.0  623.0    0.0         -396.0     1131.0      20.0  \n",
            "2  18.0  1496.0  38100.0  690.0    0.0         -917.0     1134.0      18.0  \n",
            "3  19.0   774.0  38353.0  769.0    0.0         -941.0     1126.0      13.0  \n",
            "4  19.0   676.0  37938.0  846.0    0.0         -946.0     1133.0      13.0  \n"
          ]
        }
      ]
    },
    {
      "cell_type": "code",
      "source": [
        "EV = dfEV.groupby('day').apply(lambda x: [\n",
        "    x['time_slot_arr'].tolist(),\n",
        "    x['time_slot_dep'].tolist(),\n",
        "    x['energy_need (kWh)'].tolist()\n",
        "]).to_list()"
      ],
      "metadata": {
        "id": "iLM6tzc3Jq9y"
      },
      "execution_count": null,
      "outputs": []
    },
    {
      "cell_type": "code",
      "source": [
        "forecast = dfCO2.groupby(dfCO2['date'].dt.date)['forecast_day-1'].apply(list)\n",
        "forecast = forecast.tolist()"
      ],
      "metadata": {
        "id": "TE7neHjbXQK8"
      },
      "execution_count": null,
      "outputs": []
    },
    {
      "cell_type": "markdown",
      "source": [
        "# Water-filling method"
      ],
      "metadata": {
        "id": "iZD6F2o3x0YU"
      }
    },
    {
      "cell_type": "markdown",
      "source": [
        "We use water-filling method, it works because the $f^{CO2}$ function is increasing, therefore by increasing the load on the time-slots that have the minimal current total load we get the distribution that is the most likely to consume the least energy-hungry assets, hence minimizing the total cost.\n",
        "\n",
        "(The total load $l^*$ is optimal if there exists $l_{WF}$ such that $l^*_{EV} > 0 \\Rightarrow l^*(t) = l_{WF}$ or $l^*_{EV}(t)=7$)"
      ],
      "metadata": {
        "id": "mfI-FVolx_BE"
      }
    },
    {
      "cell_type": "code",
      "source": [
        "def water(L,m,a,g):\n",
        "  eps=0.1\n",
        "\n",
        "  k=0\n",
        "  l=[0]*len(L)\n",
        "  somme=0\n",
        "\n",
        "  while somme < m:\n",
        "    k=k+1\n",
        "\n",
        "    #get minimal load unsaturated timeslot\n",
        "    j=0\n",
        "    for t in range(g):\n",
        "      if l[t]<7 and (l[j]>=7 or L[t]+l[t]<L[j]+l[j]):\n",
        "        j=t\n",
        "\n",
        "    for t in range(a,48):\n",
        "      if l[t]<7 and (l[j]>=7 or L[t]+l[t]<L[j]+l[j]):\n",
        "        j=t\n",
        "\n",
        "\n",
        "    #add epsilon\n",
        "    c=min(7,l[j]+eps)\n",
        "    somme+=c-l[j]\n",
        "    l[j]=c\n",
        "\n",
        "  return l"
      ],
      "metadata": {
        "id": "cbjRoYGpLJfM"
      },
      "execution_count": null,
      "outputs": []
    },
    {
      "cell_type": "markdown",
      "source": [
        "Every agent will put his vehicle to charge during a fixed time interval and wants a specific battery level by the end. So he will try to do so in a way that minimizes his carbon footprint, by cleverly splitting the charging schedule throughout the time interval. The purpose is to balance the individual charging loads of all vehicles throughout the charging time, so that low CO2 emitting sources remain mostly enough without having to burn fossil or nuclear to meet the demand."
      ],
      "metadata": {
        "id": "PlNor8-YXFMg"
      }
    },
    {
      "cell_type": "markdown",
      "source": [
        "# Best-Response-Dynamics"
      ],
      "metadata": {
        "id": "GpXcz-NSDe6n"
      }
    },
    {
      "cell_type": "markdown",
      "source": [
        "In this algorithm each agent turn by turn solve his optimization problem where the load of the other agents is chosen in the same way (we start with the first agent to the last, it is not simultaenous). We do this until the squared difference of the loads at consecutive iterations is small enough."
      ],
      "metadata": {
        "id": "M0viJ3yyDz4t"
      }
    },
    {
      "cell_type": "code",
      "source": [
        "def BRD(L,e,a,g):\n",
        "  d=0.5\n",
        "  nu=0.001\n",
        "  K=10000\n",
        "  n=len(e)\n",
        "  T=len(L)\n",
        "  l=[]\n",
        "  for j in range(n):\n",
        "    l.append([0]*len(L))\n",
        "\n",
        "  somme=0\n",
        "  k=0\n",
        "  while k<=K:\n",
        "\n",
        "    k=k+1\n",
        "    ll=[]\n",
        "    for j in range(n):\n",
        "      ll.append(l[j])\n",
        "\n",
        "    for j in range(n):\n",
        "      print('Agent ',j)\n",
        "      U=[ll[i] for i in range(n) if j!=i]\n",
        "      V=np.array(L)\n",
        "      for x in U:\n",
        "        V+=np.array(x)\n",
        "      print('Consommation des autres:',list(V))\n",
        "      ll[j] = water(V,e[j]/d,a[j],g[j])\n",
        "      print(e[j]/d)\n",
        "      print('Comes at ', a[j],' and leaves at ',g[j])\n",
        "      print('New policy :',ll[j])\n",
        "\n",
        "    somme=sum([sum([ (ll[i][t]-l[i][t])**2 for t in range(T)]) for i in range(n)])\n",
        "\n",
        "    if somme<=nu:\n",
        "      print(\"finish with error \"+str(somme))\n",
        "      return ll\n",
        "\n",
        "    l=list(ll)"
      ],
      "metadata": {
        "id": "gBPxJcF7LQto"
      },
      "execution_count": null,
      "outputs": []
    },
    {
      "cell_type": "code",
      "source": [
        "T=48\n",
        "\n",
        "L=forecast[0]\n",
        "e=EV[0][2]\n",
        "a=EV[0][0]\n",
        "g=EV[0][1]\n",
        "n=len(e)\n",
        "\n",
        "print('Consommation externe: ',L)\n",
        "print('Besoins individuels: ',e)\n",
        "print('Heures de depart: ',a)\n",
        "print('Heures d arrivee: ',g)\n",
        "l=BRD(L,e,a,g)"
      ],
      "metadata": {
        "colab": {
          "base_uri": "https://localhost:8080/"
        },
        "id": "N9tx4JWzLi82",
        "outputId": "fdf601e3-8c4f-493d-939b-a1a5c00334f0"
      },
      "execution_count": null,
      "outputs": [
        {
          "output_type": "stream",
          "name": "stdout",
          "text": [
            "Consommation externe:  [45500.0, 43100.0, 40500.0, 40900.0, 40000.0, 38100.0, 36400.0, 35600.0, 34800.0, 34300.0, 34300.0, 34100.0, 34000.0, 34200.0, 35100.0, 36200.0, 37600.0, 39200.0, 40900.0, 42300.0, 43000.0, 43700.0, 44300.0, 44900.0, 45900.0, 46200.0, 47500.0, 45400.0, 44700.0, 44400.0, 43400.0, 42800.0, 42300.0, 41700.0, 41500.0, 41100.0, 42000.0, 42700.0, 43600.0, 43300.0, 42600.0, 42000.0, 41600.0, 41700.0, 42300.0, 43800.0, 46500.0, 46200.0]\n",
            "Besoins individuels:  [5.0, 5.9, 5.0, 9.9, 5.0, 5.0, 9.2, 5.0, 11.7, 13.1]\n",
            "Heures de depart:  [36, 39, 37, 39, 35, 36, 38, 36, 36, 35]\n",
            "Heures d arrivee:  [14, 16, 15, 14, 16, 13, 16, 13, 15, 16]\n",
            "Agent  0\n",
            "Consommation des autres: [45500.0, 43100.0, 40500.0, 40900.0, 40000.0, 38100.0, 36400.0, 35600.0, 34800.0, 34300.0, 34300.0, 34100.0, 34000.0, 34200.0, 35100.0, 36200.0, 37600.0, 39200.0, 40900.0, 42300.0, 43000.0, 43700.0, 44300.0, 44900.0, 45900.0, 46200.0, 47500.0, 45400.0, 44700.0, 44400.0, 43400.0, 42800.0, 42300.0, 41700.0, 41500.0, 41100.0, 42000.0, 42700.0, 43600.0, 43300.0, 42600.0, 42000.0, 41600.0, 41700.0, 42300.0, 43800.0, 46500.0, 46200.0]\n",
            "10.0\n",
            "Comes at  36  and leaves at  14\n",
            "New policy : [0, 0, 0, 0, 0, 0, 0, 0, 0, 0, 0, 3.1000000000000014, 7, 0, 0, 0, 0, 0, 0, 0, 0, 0, 0, 0, 0, 0, 0, 0, 0, 0, 0, 0, 0, 0, 0, 0, 0, 0, 0, 0, 0, 0, 0, 0, 0, 0, 0, 0]\n",
            "Agent  1\n",
            "Consommation des autres: [45500.0, 43100.0, 40500.0, 40900.0, 40000.0, 38100.0, 36400.0, 35600.0, 34800.0, 34300.0, 34300.0, 34103.1, 34007.0, 34200.0, 35100.0, 36200.0, 37600.0, 39200.0, 40900.0, 42300.0, 43000.0, 43700.0, 44300.0, 44900.0, 45900.0, 46200.0, 47500.0, 45400.0, 44700.0, 44400.0, 43400.0, 42800.0, 42300.0, 41700.0, 41500.0, 41100.0, 42000.0, 42700.0, 43600.0, 43300.0, 42600.0, 42000.0, 41600.0, 41700.0, 42300.0, 43800.0, 46500.0, 46200.0]\n",
            "11.8\n",
            "Comes at  39  and leaves at  16\n",
            "New policy : [0, 0, 0, 0, 0, 0, 0, 0, 0, 0, 0, 4.899999999999999, 7, 0, 0, 0, 0, 0, 0, 0, 0, 0, 0, 0, 0, 0, 0, 0, 0, 0, 0, 0, 0, 0, 0, 0, 0, 0, 0, 0, 0, 0, 0, 0, 0, 0, 0, 0]\n",
            "Agent  2\n",
            "Consommation des autres: [45500.0, 43100.0, 40500.0, 40900.0, 40000.0, 38100.0, 36400.0, 35600.0, 34800.0, 34300.0, 34300.0, 34108.0, 34014.0, 34200.0, 35100.0, 36200.0, 37600.0, 39200.0, 40900.0, 42300.0, 43000.0, 43700.0, 44300.0, 44900.0, 45900.0, 46200.0, 47500.0, 45400.0, 44700.0, 44400.0, 43400.0, 42800.0, 42300.0, 41700.0, 41500.0, 41100.0, 42000.0, 42700.0, 43600.0, 43300.0, 42600.0, 42000.0, 41600.0, 41700.0, 42300.0, 43800.0, 46500.0, 46200.0]\n",
            "10.0\n",
            "Comes at  37  and leaves at  15\n",
            "New policy : [0, 0, 0, 0, 0, 0, 0, 0, 0, 0, 0, 3.1000000000000014, 7, 0, 0, 0, 0, 0, 0, 0, 0, 0, 0, 0, 0, 0, 0, 0, 0, 0, 0, 0, 0, 0, 0, 0, 0, 0, 0, 0, 0, 0, 0, 0, 0, 0, 0, 0]\n",
            "Agent  3\n",
            "Consommation des autres: [45500.0, 43100.0, 40500.0, 40900.0, 40000.0, 38100.0, 36400.0, 35600.0, 34800.0, 34300.0, 34300.0, 34111.1, 34021.0, 34200.0, 35100.0, 36200.0, 37600.0, 39200.0, 40900.0, 42300.0, 43000.0, 43700.0, 44300.0, 44900.0, 45900.0, 46200.0, 47500.0, 45400.0, 44700.0, 44400.0, 43400.0, 42800.0, 42300.0, 41700.0, 41500.0, 41100.0, 42000.0, 42700.0, 43600.0, 43300.0, 42600.0, 42000.0, 41600.0, 41700.0, 42300.0, 43800.0, 46500.0, 46200.0]\n",
            "19.8\n",
            "Comes at  39  and leaves at  14\n",
            "New policy : [0, 0, 0, 0, 0, 0, 0, 0, 0, 0, 0, 7, 7, 5.799999999999995, 0, 0, 0, 0, 0, 0, 0, 0, 0, 0, 0, 0, 0, 0, 0, 0, 0, 0, 0, 0, 0, 0, 0, 0, 0, 0, 0, 0, 0, 0, 0, 0, 0, 0]\n",
            "Agent  4\n",
            "Consommation des autres: [45500.0, 43100.0, 40500.0, 40900.0, 40000.0, 38100.0, 36400.0, 35600.0, 34800.0, 34300.0, 34300.0, 34118.1, 34028.0, 34205.8, 35100.0, 36200.0, 37600.0, 39200.0, 40900.0, 42300.0, 43000.0, 43700.0, 44300.0, 44900.0, 45900.0, 46200.0, 47500.0, 45400.0, 44700.0, 44400.0, 43400.0, 42800.0, 42300.0, 41700.0, 41500.0, 41100.0, 42000.0, 42700.0, 43600.0, 43300.0, 42600.0, 42000.0, 41600.0, 41700.0, 42300.0, 43800.0, 46500.0, 46200.0]\n",
            "10.0\n",
            "Comes at  35  and leaves at  16\n",
            "New policy : [0, 0, 0, 0, 0, 0, 0, 0, 0, 0, 0, 3.1000000000000014, 7, 0, 0, 0, 0, 0, 0, 0, 0, 0, 0, 0, 0, 0, 0, 0, 0, 0, 0, 0, 0, 0, 0, 0, 0, 0, 0, 0, 0, 0, 0, 0, 0, 0, 0, 0]\n",
            "Agent  5\n",
            "Consommation des autres: [45500.0, 43100.0, 40500.0, 40900.0, 40000.0, 38100.0, 36400.0, 35600.0, 34800.0, 34300.0, 34300.0, 34121.2, 34035.0, 34205.8, 35100.0, 36200.0, 37600.0, 39200.0, 40900.0, 42300.0, 43000.0, 43700.0, 44300.0, 44900.0, 45900.0, 46200.0, 47500.0, 45400.0, 44700.0, 44400.0, 43400.0, 42800.0, 42300.0, 41700.0, 41500.0, 41100.0, 42000.0, 42700.0, 43600.0, 43300.0, 42600.0, 42000.0, 41600.0, 41700.0, 42300.0, 43800.0, 46500.0, 46200.0]\n",
            "10.0\n",
            "Comes at  36  and leaves at  13\n",
            "New policy : [0, 0, 0, 0, 0, 0, 0, 0, 0, 0, 0, 3.1000000000000014, 7, 0, 0, 0, 0, 0, 0, 0, 0, 0, 0, 0, 0, 0, 0, 0, 0, 0, 0, 0, 0, 0, 0, 0, 0, 0, 0, 0, 0, 0, 0, 0, 0, 0, 0, 0]\n",
            "Agent  6\n",
            "Consommation des autres: [45500.0, 43100.0, 40500.0, 40900.0, 40000.0, 38100.0, 36400.0, 35600.0, 34800.0, 34300.0, 34300.0, 34124.299999999996, 34042.0, 34205.8, 35100.0, 36200.0, 37600.0, 39200.0, 40900.0, 42300.0, 43000.0, 43700.0, 44300.0, 44900.0, 45900.0, 46200.0, 47500.0, 45400.0, 44700.0, 44400.0, 43400.0, 42800.0, 42300.0, 41700.0, 41500.0, 41100.0, 42000.0, 42700.0, 43600.0, 43300.0, 42600.0, 42000.0, 41600.0, 41700.0, 42300.0, 43800.0, 46500.0, 46200.0]\n",
            "18.4\n",
            "Comes at  38  and leaves at  16\n",
            "New policy : [0, 0, 0, 0, 0, 0, 0, 0, 0, 0, 0, 7, 7, 4.4, 0, 0, 0, 0, 0, 0, 0, 0, 0, 0, 0, 0, 0, 0, 0, 0, 0, 0, 0, 0, 0, 0, 0, 0, 0, 0, 0, 0, 0, 0, 0, 0, 0, 0]\n",
            "Agent  7\n",
            "Consommation des autres: [45500.0, 43100.0, 40500.0, 40900.0, 40000.0, 38100.0, 36400.0, 35600.0, 34800.0, 34300.0, 34300.0, 34131.299999999996, 34049.0, 34210.200000000004, 35100.0, 36200.0, 37600.0, 39200.0, 40900.0, 42300.0, 43000.0, 43700.0, 44300.0, 44900.0, 45900.0, 46200.0, 47500.0, 45400.0, 44700.0, 44400.0, 43400.0, 42800.0, 42300.0, 41700.0, 41500.0, 41100.0, 42000.0, 42700.0, 43600.0, 43300.0, 42600.0, 42000.0, 41600.0, 41700.0, 42300.0, 43800.0, 46500.0, 46200.0]\n",
            "10.0\n",
            "Comes at  36  and leaves at  13\n",
            "New policy : [0, 0, 0, 0, 0, 0, 0, 0, 0, 0, 0, 3.1000000000000014, 7, 0, 0, 0, 0, 0, 0, 0, 0, 0, 0, 0, 0, 0, 0, 0, 0, 0, 0, 0, 0, 0, 0, 0, 0, 0, 0, 0, 0, 0, 0, 0, 0, 0, 0, 0]\n",
            "Agent  8\n",
            "Consommation des autres: [45500.0, 43100.0, 40500.0, 40900.0, 40000.0, 38100.0, 36400.0, 35600.0, 34800.0, 34300.0, 34300.0, 34134.399999999994, 34056.0, 34210.200000000004, 35100.0, 36200.0, 37600.0, 39200.0, 40900.0, 42300.0, 43000.0, 43700.0, 44300.0, 44900.0, 45900.0, 46200.0, 47500.0, 45400.0, 44700.0, 44400.0, 43400.0, 42800.0, 42300.0, 41700.0, 41500.0, 41100.0, 42000.0, 42700.0, 43600.0, 43300.0, 42600.0, 42000.0, 41600.0, 41700.0, 42300.0, 43800.0, 46500.0, 46200.0]\n",
            "23.4\n",
            "Comes at  36  and leaves at  15\n",
            "New policy : [0, 0, 0, 0, 0, 0, 0, 0, 0, 1.2, 1.2, 7, 7, 7, 0, 0, 0, 0, 0, 0, 0, 0, 0, 0, 0, 0, 0, 0, 0, 0, 0, 0, 0, 0, 0, 0, 0, 0, 0, 0, 0, 0, 0, 0, 0, 0, 0, 0]\n",
            "Agent  9\n",
            "Consommation des autres: [45500.0, 43100.0, 40500.0, 40900.0, 40000.0, 38100.0, 36400.0, 35600.0, 34800.0, 34301.2, 34301.2, 34141.399999999994, 34063.0, 34217.200000000004, 35100.0, 36200.0, 37600.0, 39200.0, 40900.0, 42300.0, 43000.0, 43700.0, 44300.0, 44900.0, 45900.0, 46200.0, 47500.0, 45400.0, 44700.0, 44400.0, 43400.0, 42800.0, 42300.0, 41700.0, 41500.0, 41100.0, 42000.0, 42700.0, 43600.0, 43300.0, 42600.0, 42000.0, 41600.0, 41700.0, 42300.0, 43800.0, 46500.0, 46200.0]\n",
            "26.2\n",
            "Comes at  35  and leaves at  16\n",
            "New policy : [0, 0, 0, 0, 0, 0, 0, 0, 0, 2.600000000000001, 2.600000000000001, 7, 7, 7, 0, 0, 0, 0, 0, 0, 0, 0, 0, 0, 0, 0, 0, 0, 0, 0, 0, 0, 0, 0, 0, 0, 0, 0, 0, 0, 0, 0, 0, 0, 0, 0, 0, 0]\n",
            "Agent  0\n",
            "Consommation des autres: [45500.0, 43100.0, 40500.0, 40900.0, 40000.0, 38100.0, 36400.0, 35600.0, 34800.0, 34303.799999999996, 34303.799999999996, 34145.299999999996, 34063.0, 34224.200000000004, 35100.0, 36200.0, 37600.0, 39200.0, 40900.0, 42300.0, 43000.0, 43700.0, 44300.0, 44900.0, 45900.0, 46200.0, 47500.0, 45400.0, 44700.0, 44400.0, 43400.0, 42800.0, 42300.0, 41700.0, 41500.0, 41100.0, 42000.0, 42700.0, 43600.0, 43300.0, 42600.0, 42000.0, 41600.0, 41700.0, 42300.0, 43800.0, 46500.0, 46200.0]\n",
            "10.0\n",
            "Comes at  36  and leaves at  14\n",
            "New policy : [0, 0, 0, 0, 0, 0, 0, 0, 0, 0, 0, 3.1000000000000014, 7, 0, 0, 0, 0, 0, 0, 0, 0, 0, 0, 0, 0, 0, 0, 0, 0, 0, 0, 0, 0, 0, 0, 0, 0, 0, 0, 0, 0, 0, 0, 0, 0, 0, 0, 0]\n",
            "Agent  1\n",
            "Consommation des autres: [45500.0, 43100.0, 40500.0, 40900.0, 40000.0, 38100.0, 36400.0, 35600.0, 34800.0, 34303.799999999996, 34303.799999999996, 34143.49999999999, 34063.0, 34224.200000000004, 35100.0, 36200.0, 37600.0, 39200.0, 40900.0, 42300.0, 43000.0, 43700.0, 44300.0, 44900.0, 45900.0, 46200.0, 47500.0, 45400.0, 44700.0, 44400.0, 43400.0, 42800.0, 42300.0, 41700.0, 41500.0, 41100.0, 42000.0, 42700.0, 43600.0, 43300.0, 42600.0, 42000.0, 41600.0, 41700.0, 42300.0, 43800.0, 46500.0, 46200.0]\n",
            "11.8\n",
            "Comes at  39  and leaves at  16\n",
            "New policy : [0, 0, 0, 0, 0, 0, 0, 0, 0, 0, 0, 4.899999999999999, 7, 0, 0, 0, 0, 0, 0, 0, 0, 0, 0, 0, 0, 0, 0, 0, 0, 0, 0, 0, 0, 0, 0, 0, 0, 0, 0, 0, 0, 0, 0, 0, 0, 0, 0, 0]\n",
            "Agent  2\n",
            "Consommation des autres: [45500.0, 43100.0, 40500.0, 40900.0, 40000.0, 38100.0, 36400.0, 35600.0, 34800.0, 34303.799999999996, 34303.799999999996, 34145.299999999996, 34063.0, 34224.200000000004, 35100.0, 36200.0, 37600.0, 39200.0, 40900.0, 42300.0, 43000.0, 43700.0, 44300.0, 44900.0, 45900.0, 46200.0, 47500.0, 45400.0, 44700.0, 44400.0, 43400.0, 42800.0, 42300.0, 41700.0, 41500.0, 41100.0, 42000.0, 42700.0, 43600.0, 43300.0, 42600.0, 42000.0, 41600.0, 41700.0, 42300.0, 43800.0, 46500.0, 46200.0]\n",
            "10.0\n",
            "Comes at  37  and leaves at  15\n",
            "New policy : [0, 0, 0, 0, 0, 0, 0, 0, 0, 0, 0, 3.1000000000000014, 7, 0, 0, 0, 0, 0, 0, 0, 0, 0, 0, 0, 0, 0, 0, 0, 0, 0, 0, 0, 0, 0, 0, 0, 0, 0, 0, 0, 0, 0, 0, 0, 0, 0, 0, 0]\n",
            "Agent  3\n",
            "Consommation des autres: [45500.0, 43100.0, 40500.0, 40900.0, 40000.0, 38100.0, 36400.0, 35600.0, 34800.0, 34303.799999999996, 34303.799999999996, 34141.399999999994, 34063.0, 34218.4, 35100.0, 36200.0, 37600.0, 39200.0, 40900.0, 42300.0, 43000.0, 43700.0, 44300.0, 44900.0, 45900.0, 46200.0, 47500.0, 45400.0, 44700.0, 44400.0, 43400.0, 42800.0, 42300.0, 41700.0, 41500.0, 41100.0, 42000.0, 42700.0, 43600.0, 43300.0, 42600.0, 42000.0, 41600.0, 41700.0, 42300.0, 43800.0, 46500.0, 46200.0]\n",
            "19.8\n",
            "Comes at  39  and leaves at  14\n",
            "New policy : [0, 0, 0, 0, 0, 0, 0, 0, 0, 0, 0, 7, 7, 5.799999999999995, 0, 0, 0, 0, 0, 0, 0, 0, 0, 0, 0, 0, 0, 0, 0, 0, 0, 0, 0, 0, 0, 0, 0, 0, 0, 0, 0, 0, 0, 0, 0, 0, 0, 0]\n",
            "Agent  4\n",
            "Consommation des autres: [45500.0, 43100.0, 40500.0, 40900.0, 40000.0, 38100.0, 36400.0, 35600.0, 34800.0, 34303.799999999996, 34303.799999999996, 34145.299999999996, 34063.0, 34224.200000000004, 35100.0, 36200.0, 37600.0, 39200.0, 40900.0, 42300.0, 43000.0, 43700.0, 44300.0, 44900.0, 45900.0, 46200.0, 47500.0, 45400.0, 44700.0, 44400.0, 43400.0, 42800.0, 42300.0, 41700.0, 41500.0, 41100.0, 42000.0, 42700.0, 43600.0, 43300.0, 42600.0, 42000.0, 41600.0, 41700.0, 42300.0, 43800.0, 46500.0, 46200.0]\n",
            "10.0\n",
            "Comes at  35  and leaves at  16\n",
            "New policy : [0, 0, 0, 0, 0, 0, 0, 0, 0, 0, 0, 3.1000000000000014, 7, 0, 0, 0, 0, 0, 0, 0, 0, 0, 0, 0, 0, 0, 0, 0, 0, 0, 0, 0, 0, 0, 0, 0, 0, 0, 0, 0, 0, 0, 0, 0, 0, 0, 0, 0]\n",
            "Agent  5\n",
            "Consommation des autres: [45500.0, 43100.0, 40500.0, 40900.0, 40000.0, 38100.0, 36400.0, 35600.0, 34800.0, 34303.799999999996, 34303.799999999996, 34145.299999999996, 34063.0, 34224.200000000004, 35100.0, 36200.0, 37600.0, 39200.0, 40900.0, 42300.0, 43000.0, 43700.0, 44300.0, 44900.0, 45900.0, 46200.0, 47500.0, 45400.0, 44700.0, 44400.0, 43400.0, 42800.0, 42300.0, 41700.0, 41500.0, 41100.0, 42000.0, 42700.0, 43600.0, 43300.0, 42600.0, 42000.0, 41600.0, 41700.0, 42300.0, 43800.0, 46500.0, 46200.0]\n",
            "10.0\n",
            "Comes at  36  and leaves at  13\n",
            "New policy : [0, 0, 0, 0, 0, 0, 0, 0, 0, 0, 0, 3.1000000000000014, 7, 0, 0, 0, 0, 0, 0, 0, 0, 0, 0, 0, 0, 0, 0, 0, 0, 0, 0, 0, 0, 0, 0, 0, 0, 0, 0, 0, 0, 0, 0, 0, 0, 0, 0, 0]\n",
            "Agent  6\n",
            "Consommation des autres: [45500.0, 43100.0, 40500.0, 40900.0, 40000.0, 38100.0, 36400.0, 35600.0, 34800.0, 34303.799999999996, 34303.799999999996, 34141.399999999994, 34063.0, 34219.8, 35100.0, 36200.0, 37600.0, 39200.0, 40900.0, 42300.0, 43000.0, 43700.0, 44300.0, 44900.0, 45900.0, 46200.0, 47500.0, 45400.0, 44700.0, 44400.0, 43400.0, 42800.0, 42300.0, 41700.0, 41500.0, 41100.0, 42000.0, 42700.0, 43600.0, 43300.0, 42600.0, 42000.0, 41600.0, 41700.0, 42300.0, 43800.0, 46500.0, 46200.0]\n",
            "18.4\n",
            "Comes at  38  and leaves at  16\n",
            "New policy : [0, 0, 0, 0, 0, 0, 0, 0, 0, 0, 0, 7, 7, 4.4, 0, 0, 0, 0, 0, 0, 0, 0, 0, 0, 0, 0, 0, 0, 0, 0, 0, 0, 0, 0, 0, 0, 0, 0, 0, 0, 0, 0, 0, 0, 0, 0, 0, 0]\n",
            "Agent  7\n",
            "Consommation des autres: [45500.0, 43100.0, 40500.0, 40900.0, 40000.0, 38100.0, 36400.0, 35600.0, 34800.0, 34303.799999999996, 34303.799999999996, 34145.299999999996, 34063.0, 34224.200000000004, 35100.0, 36200.0, 37600.0, 39200.0, 40900.0, 42300.0, 43000.0, 43700.0, 44300.0, 44900.0, 45900.0, 46200.0, 47500.0, 45400.0, 44700.0, 44400.0, 43400.0, 42800.0, 42300.0, 41700.0, 41500.0, 41100.0, 42000.0, 42700.0, 43600.0, 43300.0, 42600.0, 42000.0, 41600.0, 41700.0, 42300.0, 43800.0, 46500.0, 46200.0]\n",
            "10.0\n",
            "Comes at  36  and leaves at  13\n",
            "New policy : [0, 0, 0, 0, 0, 0, 0, 0, 0, 0, 0, 3.1000000000000014, 7, 0, 0, 0, 0, 0, 0, 0, 0, 0, 0, 0, 0, 0, 0, 0, 0, 0, 0, 0, 0, 0, 0, 0, 0, 0, 0, 0, 0, 0, 0, 0, 0, 0, 0, 0]\n",
            "Agent  8\n",
            "Consommation des autres: [45500.0, 43100.0, 40500.0, 40900.0, 40000.0, 38100.0, 36400.0, 35600.0, 34800.0, 34302.6, 34302.6, 34141.399999999994, 34063.0, 34217.200000000004, 35100.0, 36200.0, 37600.0, 39200.0, 40900.0, 42300.0, 43000.0, 43700.0, 44300.0, 44900.0, 45900.0, 46200.0, 47500.0, 45400.0, 44700.0, 44400.0, 43400.0, 42800.0, 42300.0, 41700.0, 41500.0, 41100.0, 42000.0, 42700.0, 43600.0, 43300.0, 42600.0, 42000.0, 41600.0, 41700.0, 42300.0, 43800.0, 46500.0, 46200.0]\n",
            "23.4\n",
            "Comes at  36  and leaves at  15\n",
            "New policy : [0, 0, 0, 0, 0, 0, 0, 0, 0, 1.2, 1.2, 7, 7, 7, 0, 0, 0, 0, 0, 0, 0, 0, 0, 0, 0, 0, 0, 0, 0, 0, 0, 0, 0, 0, 0, 0, 0, 0, 0, 0, 0, 0, 0, 0, 0, 0, 0, 0]\n",
            "Agent  9\n",
            "Consommation des autres: [45500.0, 43100.0, 40500.0, 40900.0, 40000.0, 38100.0, 36400.0, 35600.0, 34800.0, 34301.2, 34301.2, 34141.399999999994, 34063.0, 34217.200000000004, 35100.0, 36200.0, 37600.0, 39200.0, 40900.0, 42300.0, 43000.0, 43700.0, 44300.0, 44900.0, 45900.0, 46200.0, 47500.0, 45400.0, 44700.0, 44400.0, 43400.0, 42800.0, 42300.0, 41700.0, 41500.0, 41100.0, 42000.0, 42700.0, 43600.0, 43300.0, 42600.0, 42000.0, 41600.0, 41700.0, 42300.0, 43800.0, 46500.0, 46200.0]\n",
            "26.2\n",
            "Comes at  35  and leaves at  16\n",
            "New policy : [0, 0, 0, 0, 0, 0, 0, 0, 0, 2.600000000000001, 2.600000000000001, 7, 7, 7, 0, 0, 0, 0, 0, 0, 0, 0, 0, 0, 0, 0, 0, 0, 0, 0, 0, 0, 0, 0, 0, 0, 0, 0, 0, 0, 0, 0, 0, 0, 0, 0, 0, 0]\n",
            "finish with error 0.0\n"
          ]
        }
      ]
    },
    {
      "cell_type": "markdown",
      "source": [
        "We can observe that this algorithm converge by the fact that the sum of squared differences goes lower than the treshhold. The convergence is expected given that BRD converges to a steady state Nash Equilibrium."
      ],
      "metadata": {
        "id": "lHRC4I4CYr1h"
      }
    },
    {
      "cell_type": "code",
      "source": [
        "x = range(48)\n",
        "y =[]\n",
        "u=range(n)\n",
        "for i in u:\n",
        "  y.append(l[i])\n",
        "colors = ['r', 'g', 'b', 'c', 'm', 'y', 'k', 'orange', 'purple', 'brown']\n",
        "for i in range(len(u)):\n",
        "  plt.plot(x, y[i], drawstyle='steps-post', color=colors[i], label='agent' + str(u[i]))\n",
        "plt.legend()\n",
        "plt.title('Best-Response-Dynamics')\n",
        "plt.xlabel('Time slots')\n",
        "plt.ylabel('EV charge')\n",
        "plt.show()"
      ],
      "metadata": {
        "colab": {
          "base_uri": "https://localhost:8080/",
          "height": 472
        },
        "id": "iP_pmIh_MWBD",
        "outputId": "b52e1344-dee3-4968-bc30-7cc7529500c4"
      },
      "execution_count": null,
      "outputs": [
        {
          "output_type": "display_data",
          "data": {
            "text/plain": [
              "<Figure size 640x480 with 1 Axes>"
            ],
            "image/png": "[encoded data removed]"
          },
          "metadata": {}
        }
      ]
    }
  ]
}